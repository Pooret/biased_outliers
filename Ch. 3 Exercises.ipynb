{
 "cells": [
  {
   "cell_type": "code",
   "execution_count": 1,
   "id": "d2b9cd8a",
   "metadata": {},
   "outputs": [],
   "source": [
    "import numpy as np\n",
    "import matplotlib.pyplot as plt\n",
    "from jupyterthemes import jtplot\n",
    "jtplot.style()"
   ]
  },
  {
   "cell_type": "markdown",
   "id": "93902475",
   "metadata": {},
   "source": [
    "# Exercises"
   ]
  },
  {
   "cell_type": "markdown",
   "id": "fc942cb4",
   "metadata": {},
   "source": [
    "###### 3.1 \n",
    "\n",
    "$ \\vec{x} = [x_1, x_2]^T$\n",
    "\n",
    "$ \\vec{y} = [y_1, y_2]^T$\n",
    "\n",
    "Show that \n",
    "\n",
    "$\\langle \\vec{x}, \\vec{y} \\rangle := x_1y_1 - (x_1y_2 + x_2y_1) + 2(x_2y_2) $ is an inner product."
   ]
  },
  {
   "cell_type": "markdown",
   "id": "eb7ac496",
   "metadata": {},
   "source": [
    "[Prove that a function is an inner product](https://math.stackexchange.com/questions/217486/prove-that-a-function-is-an-inner-product)\n",
    "\n",
    "\n",
    "If you ever want to show something is an inner product, you need to show three things:\n",
    "\n",
    "1. Symmetry:  ⟨𝑓,𝑔⟩=⟨𝑔,𝑓⟩ (Or, if the field is the complex numbers, ⟨𝑓,𝑔⟩=⟨𝑔,𝑓⟩, i.e. \"conjugate symmetry.)\n",
    "\n",
    "2. Linearity: ⟨𝛼𝑓,𝑔⟩=𝛼⟨𝑓,𝑔⟩. Notice this also implies ⟨𝑓,𝛼𝑔⟩=𝛼⟨𝑓,𝑔⟩ (𝛼 in the complex case) by symmetry.\n",
    "\n",
    "3. Positive-definite: ⟨𝑓,𝑓⟩≥0 with equality if and only if 𝑓=0, the zero function."
   ]
  },
  {
   "cell_type": "code",
   "execution_count": 2,
   "id": "0ec3426a",
   "metadata": {},
   "outputs": [],
   "source": [
    "x = np.array([1,-2]).reshape(2, 1)\n",
    "y = np.array([1, 3]).reshape(2, 1)\n",
    "\n",
    "def inner_product(y, x):\n",
    "    x1, x2, y1, y2 = x[0], x[1], y[0], y[1]\n",
    "    return x1*y1 - (x1*y2 + x2*y1) + 2*x2*y2"
   ]
  },
  {
   "cell_type": "markdown",
   "id": "5208250a",
   "metadata": {},
   "source": [
    "How to solve\n",
    "1. show ⟨x,y⟩=⟨y,x⟩\n",
    "2. show ⟨Cx,y⟩= C⟨x,y⟩\n",
    "3. show ⟨x,x⟩ > 0 except for x=0"
   ]
  },
  {
   "cell_type": "code",
   "execution_count": 3,
   "id": "ba497e0e",
   "metadata": {
    "scrolled": false
   },
   "outputs": [
    {
     "data": {
      "image/png": "[encoded data removed]",
      "text/plain": [
       "<Figure size 460.8x403.2 with 1 Axes>"
      ]
     },
     "metadata": {},
     "output_type": "display_data"
    },
    {
     "name": "stdout",
     "output_type": "stream",
     "text": [
      "inner product [-12]\n"
     ]
    }
   ],
   "source": [
    "# plot two vectors to visualize\n",
    "origin = ([[0, 0], [0, 0]])\n",
    "x_plot = plt.quiver(*origin, *x, color=['r'], scale=8, label='x')\n",
    "y_plot = plt.quiver(*origin, *y, color='g', scale=8, label='y')\n",
    "plt.grid(True)\n",
    "plt.legend()\n",
    "plt.show()\n",
    "\n",
    "print('inner product', inner_product(x, y))"
   ]
  },
  {
   "cell_type": "markdown",
   "id": "4b351b4e",
   "metadata": {},
   "source": [
    "###### 3.2\n",
    "Consider $ \\mathbb{R}^2$ with $\\langle *,*\\rangle $ defined for all $\\vec{x}, \\vec{y}$ in $\\mathbb{R}^2$ as\n",
    "\n",
    "$\\langle \\vec{x}, \\vec{y} \\rangle : = x^T \\begin{bmatrix}\n",
    "2&0 \\\\\n",
    "1&2 \\end{bmatrix} y $\n",
    "\n",
    "$ A = \\begin{bmatrix}\n",
    "2&0 \\\\\n",
    "1&2 \\end{bmatrix} $"
   ]
  },
  {
   "cell_type": "markdown",
   "id": "a7a5b9bf",
   "metadata": {},
   "source": [
    "is $\\langle *,*\\rangle $ an inner product?"
   ]
  },
  {
   "cell_type": "code",
   "execution_count": 4,
   "id": "19b1fb31",
   "metadata": {},
   "outputs": [
    {
     "data": {
      "text/plain": [
       "array([[2, 0],\n",
       "       [1, 2]])"
      ]
     },
     "execution_count": 4,
     "metadata": {},
     "output_type": "execute_result"
    }
   ],
   "source": [
    "# no, the matrix A is not symmetric\n",
    "A = np.array([[2, 0], [1, 2]]).reshape(2, 2)\n",
    "A"
   ]
  },
  {
   "cell_type": "code",
   "execution_count": 5,
   "id": "bcec3674",
   "metadata": {},
   "outputs": [
    {
     "data": {
      "text/plain": [
       "array([[2, 1],\n",
       "       [0, 2]])"
      ]
     },
     "execution_count": 5,
     "metadata": {},
     "output_type": "execute_result"
    }
   ],
   "source": [
    "A.T"
   ]
  },
  {
   "cell_type": "markdown",
   "id": "f5ac9caf",
   "metadata": {},
   "source": [
    "###### 3.3\n",
    "Compute the distance between $$ \\vec{x} = \\begin{bmatrix}\n",
    "1 \\\\\n",
    "2 \\\\\n",
    "3 \\end{bmatrix}, \\vec{y} = \\begin{bmatrix}\n",
    "-1 \\\\\n",
    "-1 \\\\\n",
    "0 \\end{bmatrix}  $$"
   ]
  },
  {
   "cell_type": "markdown",
   "id": "b2503ece",
   "metadata": {},
   "source": [
    "using\n",
    "\n",
    "\n",
    "a. $\\langle \\vec{x}, \\vec{y} \\rangle := x^Ty $"
   ]
  },
  {
   "cell_type": "code",
   "execution_count": 6,
   "id": "c999bfe4",
   "metadata": {
    "scrolled": true
   },
   "outputs": [
    {
     "name": "stdout",
     "output_type": "stream",
     "text": [
      "[[-3]]\n"
     ]
    }
   ],
   "source": [
    "x = np.array([1, 2, 3]).reshape(3, 1)\n",
    "y = np.array([-1, -1, 0]).reshape(3, 1)\n",
    "\n",
    "inner_product = np.matmul(x.T, y)\n",
    "print(inner_product)"
   ]
  },
  {
   "cell_type": "markdown",
   "id": "38a3a8d1",
   "metadata": {},
   "source": [
    "b. $\\langle \\vec{x}, \\vec{y} \\rangle := x^TAy, A = \\begin{bmatrix}\n",
    "2&1&0 \\\\\n",
    "1&3&-1 \\\\\n",
    "0&-1&2 \\end{bmatrix} $"
   ]
  },
  {
   "cell_type": "code",
   "execution_count": 7,
   "id": "6a276b6b",
   "metadata": {},
   "outputs": [
    {
     "name": "stdout",
     "output_type": "stream",
     "text": [
      "[[-3]]\n"
     ]
    }
   ],
   "source": [
    "A = np.array([[2, 1, 0], [1, 3, -1], [0, -1, 2]]).reshape(3, 3)\n",
    "\n",
    "inner_product_A = np.matmul(x.T, np.matmul(A, y))\n",
    "print(inner_product)"
   ]
  }
 ],
 "metadata": {
  "kernelspec": {
   "display_name": "Python 3",
   "language": "python",
   "name": "python3"
  },
  "language_info": {
   "codemirror_mode": {
    "name": "ipython",
    "version": 3
   },
   "file_extension": ".py",
   "mimetype": "text/x-python",
   "name": "python",
   "nbconvert_exporter": "python",
   "pygments_lexer": "ipython3",
   "version": "3.9.4"
  }
 },
 "nbformat": 4,
 "nbformat_minor": 5
}
