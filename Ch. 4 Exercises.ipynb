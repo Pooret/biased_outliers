{
 "cells": [
  {
   "cell_type": "code",
   "execution_count": 79,
   "id": "c26f02d9",
   "metadata": {},
   "outputs": [],
   "source": [
    "import numpy as np\n",
    "import matplotlib.pyplot as plt\n",
    "import seaborn as sns\n",
    "import scipy\n",
    "from sympy import *\n",
    "from jupyterthemes import jtplot\n",
    "import math\n",
    "jtplot.style()"
   ]
  },
  {
   "cell_type": "markdown",
   "id": "b2029cb2",
   "metadata": {},
   "source": [
    "# Exercises"
   ]
  },
  {
   "cell_type": "markdown",
   "id": "6840cdd9",
   "metadata": {},
   "source": [
    "## 4.1\n",
    "Compute the determinant using the Laplace expansion (using the first row) and the Sarrus rule for $$\\mathbf{A} = \\begin{bmatrix}\n",
    "1&3&5 \\\\\n",
    "2&4&6 \\\\\n",
    "0&2&4 \\end{bmatrix} $$"
   ]
  },
  {
   "cell_type": "markdown",
   "id": "75fbaf06",
   "metadata": {},
   "source": [
    "Using the Laplace expansion along the first row:"
   ]
  },
  {
   "cell_type": "markdown",
   "id": "0db849c1",
   "metadata": {},
   "source": [
    "$ \\begin{vmatrix}\n",
    "1&3&5 \\\\\n",
    "2&4&6 \\\\\n",
    "0&2&4 \\end{vmatrix} = -(1)^{1 +1}1 \\begin{vmatrix}\n",
    "4&6 \\\\ \n",
    "2&4 \\end{vmatrix} + (-1)^{1+2}3\\begin{vmatrix}\n",
    "2&6 \\\\\n",
    "0&4 \\end{vmatrix}+ (-1)^{1+3}5\\begin{vmatrix}\n",
    "2&4 \\\\\n",
    "0&2 \\end{vmatrix}$\n",
    "\n"
   ]
  },
  {
   "cell_type": "markdown",
   "id": "9de56407",
   "metadata": {},
   "source": [
    "\n",
    "det ($A$) $ = 1 (16 - 12) - 3 (8 - 0) + 5(4 - 0)$"
   ]
  },
  {
   "cell_type": "markdown",
   "id": "7f905845",
   "metadata": {},
   "source": [
    "$ = 4 - 24 + 20 = 0 $"
   ]
  },
  {
   "cell_type": "markdown",
   "id": "98edd0b7",
   "metadata": {},
   "source": [
    "Using Sarrus' rule:"
   ]
  },
  {
   "cell_type": "markdown",
   "id": "fe4cfcf4",
   "metadata": {},
   "source": [
    "det($A$) $= (1*4*4) + (2*2*5) + (3*6*0) - (0*4*5) - (2*6*1) - (4*2*3) $\n",
    "\n",
    "$ = 16 + 20 + 0 - 0 - 12 - 24 = 0$"
   ]
  },
  {
   "cell_type": "code",
   "execution_count": 80,
   "id": "54d5d4b8",
   "metadata": {},
   "outputs": [
    {
     "data": {
      "text/plain": [
       "0.0"
      ]
     },
     "execution_count": 80,
     "metadata": {},
     "output_type": "execute_result"
    }
   ],
   "source": [
    "# check\n",
    "A = np.array([[1, 3, 5],[2, 4, 6], [0, 2, 4]]).reshape(3, 3)\n",
    "np.linalg.det(A)"
   ]
  },
  {
   "cell_type": "markdown",
   "id": "ad3bfd96",
   "metadata": {},
   "source": [
    "## 4.2\n",
    "Compute the following determinant efficiently: \n",
    "$$\\begin{bmatrix}\n",
    "2&0&1&2&0 \\\\\n",
    "2&-1&0&1&1 \\\\\n",
    "0&1&2&1&2 \\\\\n",
    "-2&0&2&-1&2 \\\\\n",
    "2&0&0&1&1 \\end{bmatrix}$$"
   ]
  },
  {
   "cell_type": "markdown",
   "id": "a8994f21",
   "metadata": {},
   "source": [
    "Get into ref:\n",
    "\n",
    "$$\\begin{vmatrix}\n",
    "2&0&1&2&0 \\\\\n",
    "2&-1&0&1&1 \\\\\n",
    "0&1&2&1&2 \\\\\n",
    "-2&0&2&-1&2 \\\\\n",
    "2&0&0&1&1 \\end{vmatrix} \\begin{matrix}\n",
    "\\longrightarrow \\\\\n",
    "-R_1 + R_2 \\backsim R_2 \\\\\n",
    "R_1 + R_4 \\backsim R_4 \\\\\n",
    "-R_1 + R_5 \\backsim R_5 \\end{matrix}\\begin{vmatrix}\n",
    "2&0&1&2&0 \\\\\n",
    "0&-1&-1&-1&1 \\\\\n",
    "0&1&2&1&2 \\\\\n",
    "0&0&3&1&2 \\\\\n",
    "0&0&-1&-1&1 \\end{vmatrix}\\begin{matrix}\n",
    "\\longrightarrow \\\\\n",
    "R_2 + R_3 \\backsim R_3 \\end{matrix}\\begin{vmatrix}\n",
    "2&0&1&2&0 \\\\\n",
    "0&-1&-1&-1&1 \\\\\n",
    "0&0&1&0&3 \\\\\n",
    "0&0&3&1&2 \\\\\n",
    "0&0&-1&-1&1 \\end{vmatrix}$$"
   ]
  },
  {
   "cell_type": "markdown",
   "id": "b7723570",
   "metadata": {},
   "source": [
    "$$\\begin{matrix}\n",
    "\\longrightarrow \\\\\n",
    "-3R_3 + R_4 \\backsim R_4 \\\\\n",
    "R_3 + R_5 \\backsim R_5 \\end{matrix}\\begin{vmatrix}\n",
    "2&0&1&2&0 \\\\\n",
    "0&-1&-1&-1&1 \\\\\n",
    "0&0&1&0&3 \\\\\n",
    "0&0&0&1&-7 \\\\\n",
    "0&0&0&-1&4 \\end{vmatrix}\\begin{matrix}\n",
    "\\longrightarrow \\\\\n",
    "R_4 + R_5 \\backsim R_5 \\end{matrix}\\begin{vmatrix}\n",
    "2&0&1&2&0 \\\\\n",
    "0&-1&-1&-1&1 \\\\\n",
    "0&0&1&0&3 \\\\\n",
    "0&0&0&1&-7 \\\\\n",
    "0&0&0&0&-3 \\end{vmatrix}$$"
   ]
  },
  {
   "cell_type": "markdown",
   "id": "0ec2071c",
   "metadata": {},
   "source": [
    "Since our matrix is now in upper-right triangular form, the determinant is the product of it's diagonal:\n",
    "\n",
    "$(2)(-1)(1)(1)(-3) = 6 $"
   ]
  },
  {
   "cell_type": "code",
   "execution_count": 81,
   "id": "3b1a0082",
   "metadata": {},
   "outputs": [
    {
     "name": "stdout",
     "output_type": "stream",
     "text": [
      "determinant of full matrix : 6.0\n"
     ]
    }
   ],
   "source": [
    "# put matrix into row-eschelon form (note this results in an upper-triangluar matrix as the matrix is square)\n",
    "U = np.array([[2, 0, 1, 2, 0], [2, -1, 0, 1, 1], [0, 1, 2, 1, 2], [-2, 0, 2, -1, 2], [2, 0, 0, 1, 1]]).reshape(5, 5)\n",
    "print('determinant of full matrix :', round(np.linalg.det(U), 2))"
   ]
  },
  {
   "cell_type": "markdown",
   "id": "573576bf",
   "metadata": {},
   "source": [
    "## 4.3\n",
    "Compute the eigenspaces of  \n",
    "__a__. $$ \\mathbf{A} := \\begin{bmatrix}\n",
    "1&0 \\\\\n",
    "1&1 \\end{bmatrix} $$"
   ]
  },
  {
   "cell_type": "markdown",
   "id": "f92795ff",
   "metadata": {},
   "source": [
    "Characteristic Polynomial\n",
    "\n",
    "$p_A(\\lambda) = det (A - \\lambda I) $ \n",
    "\n",
    "$= det \\Bigl(\\begin{bmatrix}\n",
    "1&0 \\\\\n",
    "1&1 \\end{bmatrix} - \\begin{bmatrix}\n",
    "\\lambda&0 \\\\\n",
    "0&\\lambda \\end{bmatrix}\\Bigr) = \\begin{vmatrix}\n",
    "1 - \\lambda & 0 \\\\\n",
    "1 & 1 - \\lambda \\end{vmatrix} = (1 - \\lambda)^2 - 0$"
   ]
  },
  {
   "cell_type": "markdown",
   "id": "954b529d",
   "metadata": {},
   "source": [
    "$p(\\lambda) = (1 - \\lambda)^2$, which gives us the roots of $\\lambda_1 = \\lambda_2 = 1 $. Putting the equation in the form of $ \\begin{bmatrix}\n",
    "1 - \\lambda & 0 \\\\\n",
    "1 & 1 - \\lambda \\end{bmatrix}\\mathbf{x} = \\mathbf{0}$. \n",
    "\n",
    "Plugging this back into our matrix to find the eigenspaces, we get \n",
    "$\\begin{bmatrix}\n",
    "0&0 \\\\\n",
    "1&0 \\end{bmatrix}\\begin{bmatrix}\n",
    "x_1 \\\\\n",
    "x_2 \\end{bmatrix} = \\begin{bmatrix}\n",
    "0 \\\\\n",
    "0 \\end{bmatrix}$"
   ]
  },
  {
   "cell_type": "markdown",
   "id": "acba654d",
   "metadata": {},
   "source": [
    "$0x_1 + 0x_2 = 0$  \n",
    "$1x_1 + 0x_2 = 0$\n",
    "\n",
    "$ x_1 $ must be $0$, $x_2$ is a scalar &rarr; $\\begin{bmatrix}\n",
    "1&0 \\\\\n",
    "1&1 \\end{bmatrix}\\begin{bmatrix}\n",
    "0 \\\\\n",
    "c \\end{bmatrix} = \\begin{bmatrix}\n",
    "0 \\\\\n",
    "c \\end{bmatrix}$ where $c$ is a scalar.\n",
    "\n",
    "The eigenspaces of $A$ are $E_{span}\\bigl(\\begin{bmatrix}\n",
    "0 \\\\\n",
    "c \\end{bmatrix}\\bigr)$"
   ]
  },
  {
   "cell_type": "code",
   "execution_count": 82,
   "id": "e101268a",
   "metadata": {},
   "outputs": [
    {
     "name": "stdout",
     "output_type": "stream",
     "text": [
      "[[ 0.  0.]\n",
      " [ 1. -1.]]\n"
     ]
    }
   ],
   "source": [
    "A = np.array([[1, 0], [1, 1]]).reshape(2, 2)\n",
    "eig_val, eig_vec = np.linalg.eig(A)\n",
    "print(np.round(eig_vec))"
   ]
  },
  {
   "cell_type": "markdown",
   "id": "4fe4581e",
   "metadata": {},
   "source": [
    "__b__. $$ \\mathbf{B} := \\begin{bmatrix}\n",
    "-2&2 \\\\\n",
    "2&1 \\end{bmatrix} $$"
   ]
  },
  {
   "cell_type": "markdown",
   "id": "d011bd5e",
   "metadata": {},
   "source": [
    "As above\n",
    "\n",
    "$p_B(\\lambda) = det (B - \\lambda I) $ \n",
    "\n",
    "$= det \\Bigl(\\begin{bmatrix}\n",
    "-2&2 \\\\\n",
    "2&1 \\end{bmatrix} - \\begin{bmatrix}\n",
    "\\lambda&0 \\\\\n",
    "0&\\lambda \\end{bmatrix}\\Bigr) = \\begin{vmatrix}\n",
    "-2 - \\lambda & 2 \\\\\n",
    "2 & 1 - \\lambda \\end{vmatrix} = (-1)(2 + \\lambda)(1 - \\lambda) - 4$  \n",
    "\n",
    "Factoring this out yields:  \n",
    "$(\\lambda - 2)(\\lambda + 3)$ So we have roots $ \\lambda_1 = 2, \\lambda_2 = -3$\n",
    "\n",
    "$\\begin{bmatrix}\n",
    "-2 - 2 & 2 \\\\\n",
    "2 & 1 - 2 \\end{bmatrix} \\begin{bmatrix}\n",
    "x_1 \\\\\n",
    "x_2 \\end{bmatrix} = \\begin{bmatrix}\n",
    "0 \\\\\n",
    "0 \\end{bmatrix}$"
   ]
  },
  {
   "cell_type": "markdown",
   "id": "e0e7149f",
   "metadata": {},
   "source": [
    "$-4x_1 + 2x_2 = 0 $  \n",
    "$2x_1 - x_2 = 0 $  \n",
    "Solving yields $x_2$ to be a free variable, so we get E_2 = $2\\begin{bmatrix}\n",
    "0.5 \\\\\n",
    "1 \\end{bmatrix}$"
   ]
  },
  {
   "cell_type": "markdown",
   "id": "e0dacf6e",
   "metadata": {},
   "source": [
    "$\\begin{bmatrix}\n",
    "-2 - (-3) & 2 \\\\\n",
    "2 & 1 - (-3) \\end{bmatrix} \\begin{bmatrix}\n",
    "x_1 \\\\\n",
    "x_2 \\end{bmatrix} = \\begin{bmatrix}\n",
    "0 \\\\\n",
    "0 \\end{bmatrix}$"
   ]
  },
  {
   "cell_type": "markdown",
   "id": "ab83021c",
   "metadata": {},
   "source": [
    "$1x_1 + 2x_2 = 0 $  \n",
    "$2x_1 + 4x_2 = 0 $  \n",
    "Similarly setting $x_2$ to be a free variable, we get E_{-3} = $-3\\begin{bmatrix}\n",
    "-2 \\\\\n",
    "1 \\end{bmatrix}$"
   ]
  },
  {
   "cell_type": "code",
   "execution_count": 83,
   "id": "43937d9c",
   "metadata": {},
   "outputs": [
    {
     "name": "stdout",
     "output_type": "stream",
     "text": [
      "[-3.  2.]\n",
      "[[-0.89442719 -0.4472136 ]\n",
      " [ 0.4472136  -0.89442719]]\n"
     ]
    }
   ],
   "source": [
    "B = np.array([[-2, 2], [2, 1]]).reshape(2, 2)\n",
    "eig_val, eig_vec = np.linalg.eig(B)\n",
    "print(eig_val)\n",
    "print(eig_vec)"
   ]
  },
  {
   "cell_type": "markdown",
   "id": "f644b03e",
   "metadata": {},
   "source": [
    "## 4.4 \n",
    "Compute all the eigenspaces of $$ \\mathbf{A} = \\begin{bmatrix}\n",
    "0&-1&1&1 \\\\\n",
    "-1&1&-2&3 \\\\\n",
    "2&-1&0&0 \\\\\n",
    "1&-1&1&0 \\end{bmatrix} $$"
   ]
  },
  {
   "cell_type": "code",
   "execution_count": 84,
   "id": "756b07d8",
   "metadata": {
    "scrolled": true
   },
   "outputs": [
    {
     "name": "stdout",
     "output_type": "stream",
     "text": [
      "[[ 1.+0.j  1.+0.j -0.-0.j -0.+0.j]\n",
      " [ 0.+0.j  0.+0.j -1.+0.j -1.-0.j]\n",
      " [ 1.+0.j  1.+0.j -1.+0.j -1.-0.j]\n",
      " [ 1.+0.j  1.+0.j  0.+0.j  0.-0.j]]\n",
      "[ 2.+0.j  1.+0.j -1.+0.j -1.-0.j]\n"
     ]
    }
   ],
   "source": [
    "A = np.array([[0, -1, 1, 1], [-1, 1, -2, 3], [2, -1, 0, 0], [1, -1, 1, 0]]).reshape(4, 4)\n",
    "eig_val, eig_vec= np.linalg.eig(A)\n",
    "print(np.round(eig_vec))\n",
    "print(np.round(eig_val))"
   ]
  },
  {
   "cell_type": "markdown",
   "id": "74e3c8e1",
   "metadata": {},
   "source": [
    "## 4.5\n",
    "Diagonalizability of a matrix is unrelated to its invertibility. Determine for the following four matrices whether they are diagonalizable and/or invertible. \n",
    "\n",
    "*Diagonalizable* -- A symmetric matrix is always diagonalizable. A non-symmetric square matrix is diagonalizable if it contains n linearly independent eigenvectors. \n",
    "\n",
    "*Invertible* -- A square matrix is invertible if it's determinant does not equal 0.\n",
    "\n",
    "$$ \\begin{bmatrix}\n",
    "1&0 \\\\\n",
    "0&1 \\end{bmatrix},  \\begin{bmatrix}\n",
    "1&0 \\\\\n",
    "0&0 \\end{bmatrix}, \\begin{bmatrix}\n",
    "1&1 \\\\\n",
    "0&1 \\end{bmatrix}, \\begin{bmatrix}\n",
    "0&1 \\\\\n",
    "0&0 \\end{bmatrix}$$"
   ]
  },
  {
   "cell_type": "code",
   "execution_count": 85,
   "id": "98abc7a2",
   "metadata": {},
   "outputs": [
    {
     "data": {
      "text/latex": [
       "$\\displaystyle \\left[\\begin{matrix}1 & 0\\\\0 & 1\\end{matrix}\\right]$"
      ],
      "text/plain": [
       "Matrix([\n",
       "[1, 0],\n",
       "[0, 1]])"
      ]
     },
     "metadata": {},
     "output_type": "display_data"
    },
    {
     "name": "stdout",
     "output_type": "stream",
     "text": [
      "determinant:  1.0\n",
      "eigenvalues:\n",
      " [1. 1.]\n",
      "eigenvectors:\n",
      " [[1. 0.]\n",
      " [0. 1.]]\n",
      "PDP.T:\n",
      " [[1. 0.]\n",
      " [0. 1.]]\n",
      "2\n"
     ]
    }
   ],
   "source": [
    "matrix = np.array([[1,0], [0,1]]).reshape(2, 2)\n",
    "display(Matrix(matrix))\n",
    "print('determinant: ', np.linalg.det(matrix))\n",
    "eig_val, eig_vec = np.linalg.eig(matrix)\n",
    "I = np.diag(np.ones(len(eig_val)))\n",
    "D = I * np.round(eig_val,2)\n",
    "\n",
    "print('eigenvalues:\\n', eig_val)\n",
    "print('eigenvectors:\\n', np.round(eig_vec))\n",
    "print('PDP.T:\\n', np.round(np.dot(eig_vec, (np.dot(D, eig_vec.T)))))\n",
    "print(np.linalg.matrix_rank(eig_vec))\n",
    "# Invertible \n",
    "# diagonalizable"
   ]
  },
  {
   "cell_type": "code",
   "execution_count": 86,
   "id": "6c265255",
   "metadata": {},
   "outputs": [
    {
     "data": {
      "text/latex": [
       "$\\displaystyle \\left[\\begin{matrix}1 & 0\\\\0 & 0\\end{matrix}\\right]$"
      ],
      "text/plain": [
       "Matrix([\n",
       "[1, 0],\n",
       "[0, 0]])"
      ]
     },
     "metadata": {},
     "output_type": "display_data"
    },
    {
     "name": "stdout",
     "output_type": "stream",
     "text": [
      "determinant:  0.0\n",
      "eigenvalues:\n",
      " [1. 0.]\n",
      "eigenvectors:\n",
      " [[1. 0.]\n",
      " [0. 1.]]\n",
      "PDP.T:\n",
      " [[1. 0.]\n",
      " [0. 0.]]\n",
      "2\n"
     ]
    }
   ],
   "source": [
    "matrix = np.array([[1,0], [0,0]]).reshape(2, 2)\n",
    "display(Matrix(matrix))\n",
    "print('determinant: ', np.linalg.det(matrix))\n",
    "eig_val, eig_vec = np.linalg.eig(matrix)\n",
    "I = np.diag(np.ones(len(eig_val)))\n",
    "D = I * np.round(eig_val,2)\n",
    "\n",
    "print('eigenvalues:\\n', eig_val)\n",
    "print('eigenvectors:\\n', np.round(eig_vec))\n",
    "print('PDP.T:\\n', np.round(np.dot(eig_vec, (np.dot(D, eig_vec.T)))))\n",
    "print(np.linalg.matrix_rank(eig_vec))\n",
    "# NOT invertible\n",
    "# Diagonizable"
   ]
  },
  {
   "cell_type": "code",
   "execution_count": 87,
   "id": "d26516a6",
   "metadata": {},
   "outputs": [
    {
     "data": {
      "text/latex": [
       "$\\displaystyle \\left[\\begin{matrix}1 & 1\\\\0 & 1\\end{matrix}\\right]$"
      ],
      "text/plain": [
       "Matrix([\n",
       "[1, 1],\n",
       "[0, 1]])"
      ]
     },
     "metadata": {},
     "output_type": "display_data"
    },
    {
     "name": "stdout",
     "output_type": "stream",
     "text": [
      "determinant:  1.0\n",
      "eigenvalues:\n",
      " [1. 1.]\n",
      "eigenvectors:\n",
      " [[ 1. -1.]\n",
      " [ 0.  0.]]\n",
      "PDP.T:\n",
      " [[ 2. -0.]\n",
      " [-0.  0.]]\n",
      "1\n"
     ]
    }
   ],
   "source": [
    "matrix = np.array([[1,1], [0,1]]).reshape(2, 2)\n",
    "display(Matrix(matrix))\n",
    "print('determinant: ', np.linalg.det(matrix))\n",
    "eig_val, eig_vec = np.linalg.eig(matrix)\n",
    "I = np.diag(np.ones(len(eig_val)))\n",
    "D = I * np.round(eig_val,2)\n",
    "\n",
    "print('eigenvalues:\\n', eig_val)\n",
    "print('eigenvectors:\\n', np.round(eig_vec))\n",
    "print('PDP.T:\\n', np.round(np.dot(eig_vec, (np.dot(D, eig_vec.T)))))\n",
    "print(np.linalg.matrix_rank(eig_vec))\n",
    "# invertible\n",
    "# NOT diagonalizable"
   ]
  },
  {
   "cell_type": "code",
   "execution_count": 88,
   "id": "9f63ec5d",
   "metadata": {},
   "outputs": [
    {
     "data": {
      "text/latex": [
       "$\\displaystyle \\left[\\begin{matrix}0 & 1\\\\0 & 0\\end{matrix}\\right]$"
      ],
      "text/plain": [
       "Matrix([\n",
       "[0, 1],\n",
       "[0, 0]])"
      ]
     },
     "metadata": {},
     "output_type": "display_data"
    },
    {
     "name": "stdout",
     "output_type": "stream",
     "text": [
      "determinant:  0.0\n",
      "eigenvalues:\n",
      " [0. 0.]\n",
      "eigenvectors:\n",
      " [[ 1. -1.]\n",
      " [ 0.  0.]]\n",
      "PDP.T:\n",
      " [[0. 0.]\n",
      " [0. 0.]]\n",
      "1\n"
     ]
    }
   ],
   "source": [
    "matrix = np.array([[0,1], [0,0]]).reshape(2, 2)\n",
    "display(Matrix(matrix))\n",
    "print('determinant: ', np.linalg.det(matrix))\n",
    "eig_val, eig_vec = np.linalg.eig(matrix)\n",
    "I = np.diag(np.ones(len(eig_val)))\n",
    "D = I * np.round(eig_val,2)\n",
    "\n",
    "print('eigenvalues:\\n', eig_val)\n",
    "print('eigenvectors:\\n', np.round(eig_vec))\n",
    "print('PDP.T:\\n', np.round(np.dot(eig_vec, (np.dot(D, eig_vec.T)))))\n",
    "print(np.linalg.matrix_rank(eig_vec))\n",
    "# NOT invertible\n",
    "# NOT diagonalizable "
   ]
  },
  {
   "cell_type": "markdown",
   "id": "c7cc4608",
   "metadata": {},
   "source": [
    "## 4.6\n",
    "Compute the eigenspaces of the following transformation matrices. Are they diagonalizable?  \n",
    "__a__. For $$ \\mathbf{A} = \\begin{bmatrix}\n",
    "2&3&0 \\\\\n",
    "1&4&3 \\\\\n",
    "0&0&1 \\end{bmatrix} $$"
   ]
  },
  {
   "cell_type": "code",
   "execution_count": 49,
   "id": "eb8fb546",
   "metadata": {},
   "outputs": [
    {
     "name": "stdout",
     "output_type": "stream",
     "text": [
      "eigenvectors:\n",
      " [[-1. -1.  1.]\n",
      " [ 0. -1. -0.]\n",
      " [ 0.  0.  0.]]\n",
      "eigenvalues:\n",
      " [1. 5. 1.]\n",
      "eigenvectors:\n",
      " [[-1. -1.  1.]\n",
      " [ 0. -1. -0.]\n",
      " [ 0.  0.  0.]]\n",
      "PDP.T:\n",
      " [[ 4.  2.  0.]\n",
      " [ 2.  3. -0.]\n",
      " [ 0. -0.  0.]]\n",
      "2\n"
     ]
    }
   ],
   "source": [
    "A = np.array([[2, 3, 0], [1, 4, 3], [0, 0, 1]]).reshape(3, 3)\n",
    "eig_val, eig_vec = np.linalg.eig(A)\n",
    "print('eigenvectors:\\n', np.round(eig_vec))\n",
    "I = np.diag(np.ones(len(eig_val)))\n",
    "D = I * np.round(eig_val,2)\n",
    "\n",
    "print('eigenvalues:\\n', eig_val)\n",
    "print('eigenvectors:\\n', np.round(eig_vec))\n",
    "print('PDP.T:\\n', np.round(np.dot(eig_vec, (np.dot(D, eig_vec.T)))))\n",
    "print(np.linalg.matrix_rank(eig_vec))\n",
    "# NOT diagonalizable "
   ]
  },
  {
   "cell_type": "markdown",
   "id": "9fb59f70",
   "metadata": {},
   "source": [
    "__b__. For $$ \\mathbf{A} = \\begin{bmatrix}\n",
    "1&1&0&0 \\\\\n",
    "0&0&0&0 \\\\\n",
    "0&0&0&0 \\\\\n",
    "0&0&0&0 \\end{bmatrix} $$"
   ]
  },
  {
   "cell_type": "code",
   "execution_count": 58,
   "id": "56466c86",
   "metadata": {},
   "outputs": [
    {
     "data": {
      "text/latex": [
       "$\\displaystyle \\left[\\begin{matrix}1 & 1 & 0 & 0\\\\0 & 0 & 0 & 0\\\\0 & 0 & 0 & 0\\\\0 & 0 & 0 & 0\\end{matrix}\\right]$"
      ],
      "text/plain": [
       "Matrix([\n",
       "[1, 1, 0, 0],\n",
       "[0, 0, 0, 0],\n",
       "[0, 0, 0, 0],\n",
       "[0, 0, 0, 0]])"
      ]
     },
     "metadata": {},
     "output_type": "display_data"
    },
    {
     "name": "stdout",
     "output_type": "stream",
     "text": [
      "eigenvectors:\n",
      " [[ 1. -1.  0.  0.]\n",
      " [ 0.  1.  0.  0.]\n",
      " [ 0.  0.  1.  0.]\n",
      " [ 0.  0.  0.  1.]]\n",
      "eigenvalues:\n",
      " [1. 0. 0. 0.]\n",
      "eigenvectors:\n",
      " [[ 1. -1.  0.  0.]\n",
      " [ 0.  1.  0.  0.]\n",
      " [ 0.  0.  1.  0.]\n",
      " [ 0.  0.  0.  1.]]\n",
      "PDP.T:\n",
      " [[1. 0. 0. 0.]\n",
      " [0. 0. 0. 0.]\n",
      " [0. 0. 0. 0.]\n",
      " [0. 0. 0. 0.]]\n",
      "4\n"
     ]
    }
   ],
   "source": [
    "A = np.array([[1, 1, 0, 0], [0, 0, 0, 0], [0, 0, 0, 0], [0, 0, 0, 0]]).reshape(4, 4)\n",
    "display(Matrix(A))\n",
    "eig_val, eig_vec = np.linalg.eig(A)\n",
    "print('eigenvectors:\\n', np.round(eig_vec))\n",
    "I = np.diag(np.ones(len(eig_val)))\n",
    "D = I * np.round(eig_val)\n",
    "\n",
    "print('eigenvalues:\\n', eig_val)\n",
    "print('eigenvectors:\\n', np.round(eig_vec))\n",
    "print('PDP.T:\\n', np.round(np.dot(eig_vec, (np.dot(D, eig_vec.T)))))\n",
    "print(np.linalg.matrix_rank(eig_vec))\n",
    "# Diagonalizable "
   ]
  },
  {
   "cell_type": "markdown",
   "id": "0c892e7c",
   "metadata": {},
   "source": [
    "## 4.7\n",
    "Are the following matrices diagonalizable? If yes, determine their diagonal form and a basis with respect to which the transformation matrices are diagonal. If no, give reasons why they are not diagonalizable."
   ]
  },
  {
   "cell_type": "markdown",
   "id": "572cac7c",
   "metadata": {},
   "source": [
    "a.\n",
    "\n",
    "$$\\mathbf{A} = \\begin{bmatrix}\n",
    "0&1 \\\\\n",
    "-8&4 \\end{bmatrix}$$"
   ]
  },
  {
   "cell_type": "code",
   "execution_count": 75,
   "id": "a9e71364",
   "metadata": {
    "scrolled": true
   },
   "outputs": [
    {
     "name": "stdout",
     "output_type": "stream",
     "text": [
      "rank of eigenspaces 2\n"
     ]
    }
   ],
   "source": [
    "A = np.array([[0, 1],[-8, 4]]).reshape(2, 2)\n",
    "eig_val, eig_vec = np.linalg.eig(A)\n",
    "print('rank of eigenspaces', np.linalg.matrix_rank(eig_vec))\n",
    "D = np.diag(np.round(eig_val))\n",
    "basis = np.round(eig_vec)\n",
    "# not diagonalizable in this dimension"
   ]
  },
  {
   "cell_type": "code",
   "execution_count": 77,
   "id": "8c05ea68",
   "metadata": {},
   "outputs": [
    {
     "name": "stdout",
     "output_type": "stream",
     "text": [
      "b.\n"
     ]
    },
    {
     "data": {
      "text/latex": [
       "$\\displaystyle \\left[\\begin{matrix}1 & 1 & 1\\\\1 & 1 & 1\\\\1 & 1 & 1\\end{matrix}\\right]$"
      ],
      "text/plain": [
       "Matrix([\n",
       "[1, 1, 1],\n",
       "[1, 1, 1],\n",
       "[1, 1, 1]])"
      ]
     },
     "metadata": {},
     "output_type": "display_data"
    },
    {
     "name": "stdout",
     "output_type": "stream",
     "text": [
      "eigenvectors:\n",
      " [[-1.  1.  0.]\n",
      " [ 0.  1. -1.]\n",
      " [ 0.  1.  1.]]\n",
      "eigenvalues:\n",
      " [-0.  3.  0.]\n",
      "PDP.T:\n",
      " [[1. 1. 1.]\n",
      " [1. 1. 1.]\n",
      " [1. 1. 1.]]\n"
     ]
    }
   ],
   "source": [
    "print(\"b.\")\n",
    "A = np.array([[1, 1, 1],[1, 1, 1], [1, 1, 1]]).reshape(3, 3)\n",
    "display(Matrix(A))\n",
    "eig_val, eig_vec = np.linalg.eig(A)\n",
    "print('eigenvectors:\\n', np.round(eig_vec))\n",
    "I = np.diag(np.ones(len(eig_val)))\n",
    "D = I * np.round(eig_val)\n",
    "\n",
    "print('eigenvalues:\\n', np.round(eig_val))\n",
    "print('PDP.T:\\n', np.round(np.dot(eig_vec, (np.dot(D, eig_vec.T)))))"
   ]
  },
  {
   "cell_type": "markdown",
   "id": "930a0457",
   "metadata": {},
   "source": [
    "c."
   ]
  },
  {
   "cell_type": "code",
   "execution_count": 78,
   "id": "bdf4728c",
   "metadata": {},
   "outputs": [
    {
     "name": "stdout",
     "output_type": "stream",
     "text": [
      "eigenvectors:\n",
      " [[-1.  1. -1. -1.]\n",
      " [ 0.  0.  1.  1.]\n",
      " [ 1. -1.  0.  0.]\n",
      " [-1.  1.  0. -1.]]\n",
      "eigenvalues:\n",
      " [4. 4. 1. 2.]\n",
      "[[ 3 -1 -2  3]\n",
      " [-1  1  0  0]\n",
      " [-2  0  2 -2]\n",
      " [ 3  0 -2  3]]\n",
      "3\n",
      "4\n"
     ]
    }
   ],
   "source": [
    "A = np.array([[5, 4, 2, 1],[0, 1, -1, -1], [-1, -1, 3, 0], [1, 1, -1, 2]]).reshape(4, 4)\n",
    "eig_val, eig_vec = np.linalg.eig(A)\n",
    "print('eigenvectors:\\n', np.round(eig_vec))\n",
    "I = np.diag(np.ones(len(eig_val)))\n",
    "D = I * np.round(eig_val)\n",
    "\n",
    "print('eigenvalues:\\n', np.round(eig_val))\n",
    "print(np.dot(eig_vec, np.dot(D, eig_vec.T)).astype(int))\n",
    "\n",
    "print(np.linalg.matrix_rank(eig_vec))\n",
    "print(np.linalg.matrix_rank(A))\n",
    "# not diagonalizable"
   ]
  }
 ],
 "metadata": {
  "kernelspec": {
   "display_name": "Python 3",
   "language": "python",
   "name": "python3"
  },
  "language_info": {
   "codemirror_mode": {
    "name": "ipython",
    "version": 3
   },
   "file_extension": ".py",
   "mimetype": "text/x-python",
   "name": "python",
   "nbconvert_exporter": "python",
   "pygments_lexer": "ipython3",
   "version": "3.9.4"
  }
 },
 "nbformat": 4,
 "nbformat_minor": 5
}
