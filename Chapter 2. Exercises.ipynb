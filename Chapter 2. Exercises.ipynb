{
 "cells": [
  {
   "cell_type": "code",
   "execution_count": 1,
   "id": "0a88ef9c",
   "metadata": {},
   "outputs": [],
   "source": [
    "# imports\n",
    "import numpy as np\n",
    "import matplotlib.pyplot as plt\n",
    "from jupyterthemes import jtplot\n",
    "\n",
    "jtplot.style()"
   ]
  },
  {
   "cell_type": "markdown",
   "id": "7bcf1f04",
   "metadata": {},
   "source": [
    "# 2.20"
   ]
  },
  {
   "cell_type": "code",
   "execution_count": 2,
   "id": "f67119fc",
   "metadata": {},
   "outputs": [],
   "source": [
    "# 4 vectors of real 2-d numbers expressed in the standard basis of real-space:\n",
    "b1 = np.array([2, 1]).reshape(2, 1)\n",
    "b2 = np.array([-1, -1]).reshape(2, 1)\n",
    "b1_prime = np.array([2, -2]).reshape(2, 1)\n",
    "b2_prime = np.array([1, 1]).reshape(2, 1)"
   ]
  },
  {
   "cell_type": "code",
   "execution_count": 3,
   "id": "c3d02d61",
   "metadata": {},
   "outputs": [],
   "source": [
    "# Two ordered bases\n",
    "B = (b1, b2)\n",
    "B_prime = (b1_prime, b2_prime)"
   ]
  },
  {
   "cell_type": "markdown",
   "id": "3dbe6f93",
   "metadata": {},
   "source": [
    "#### a. _Show that $B$ and $B^{\\prime}$ are two bases in $ \\mathbb{R}^2 \\$ and draw thoses basis vectors:_  \n",
    "If a **linearly independent** set of vectors **spans** a subspace then the vectors form a **basis** for that subspace.  "
   ]
  },
  {
   "cell_type": "code",
   "execution_count": 4,
   "id": "50fadd0e",
   "metadata": {},
   "outputs": [
    {
     "name": "stdout",
     "output_type": "stream",
     "text": [
      "B:\n",
      "[[ 2 -1]\n",
      " [ 1 -1]]\n",
      "B_prime:\n",
      "[[ 2  1]\n",
      " [-2  1]]\n",
      "rank of B:  2\n",
      "rank of B_prime:  2\n",
      "determinant of B:  -1.0\n",
      "determinant of B_prime:  4.0\n"
     ]
    }
   ],
   "source": [
    "# prove that they span\n",
    "B = np.array(B).reshape(2, 2).T\n",
    "B_prime = np.array(B_prime).reshape(2, 2).T\n",
    "print('B:')\n",
    "print(B)\n",
    "print('B_prime:')\n",
    "print(B_prime)\n",
    "print('rank of B: ', np.linalg.matrix_rank(B))\n",
    "print('rank of B_prime: ', np.linalg.matrix_rank(B_prime))\n",
    "print('determinant of B: ', np.linalg.det(B))\n",
    "print('determinant of B_prime: ', np.linalg.det(B_prime))"
   ]
  },
  {
   "cell_type": "markdown",
   "id": "f959d8b4",
   "metadata": {},
   "source": [
    "$B$ and $B^{\\prime}$ span $ \\mathbb{R}^2 $ since they both have rk() = 2.  \n",
    "Since the determinant of both $B$ and $B^{\\prime}$ are not zero, they are invertible and have solutions.  \n",
    "[If a matrix is invertible, then the homogenous system only has trivial solutions](https://math.libretexts.org/Bookshelves/Linear_Algebra/Map%3A_Linear_Algebra_(Waldron_Cherney_and_Denton)/07%3A_Matrices/7.05%3A_Inverse_Matrix), i.e. \n",
    "\n",
    "$ \\Sigma_{i=1}^2\\lambda_ib_i = 0\\$\n",
    "\n",
    "$ \\Sigma_{i=1}^2\\lambda_ib_i^{prime} = 0\\$"
   ]
  },
  {
   "cell_type": "code",
   "execution_count": 5,
   "id": "27c09430",
   "metadata": {},
   "outputs": [
    {
     "name": "stdout",
     "output_type": "stream",
     "text": [
      "[ 0. -0.]\n",
      "[0. 0.]\n"
     ]
    }
   ],
   "source": [
    "# solving this to double check\n",
    "\"\"\"\n",
    "np.linalg.solve()\n",
    "Solve a linear matrix equation, or system of linear scalar equations.\n",
    "\n",
    "Computes the \"exact\" solution, `x`, of the well-determined, i.e., full\n",
    "rank, linear matrix equation `ax = b`.\n",
    "\"\"\"\n",
    "print(np.linalg.solve(B, [0, 0]))\n",
    "print(np.linalg.solve(B_prime, [0, 0]))"
   ]
  },
  {
   "cell_type": "code",
   "execution_count": 6,
   "id": "8fbf803b",
   "metadata": {},
   "outputs": [
    {
     "data": {
      "image/png": "[encoded data removed]",
      "text/plain": [
       "<Figure size 460.8x403.2 with 1 Axes>"
      ]
     },
     "metadata": {},
     "output_type": "display_data"
    }
   ],
   "source": [
    "# https://stackoverflow.com/questions/42281966/how-to-plot-vectors-in-python-using-matplotlib\n",
    "# draw the vectors (Note that these vectors are to scaled to each other, not the coordiate system)\n",
    "origin = ([[0, 0], [0, 0]])\n",
    "B_plot = plt.quiver(*origin, *B, color=['r'], scale=8, label='B')\n",
    "B_prime_plot = plt.quiver(*origin, *B_prime, color='b', scale=8, label='B prime')\n",
    "plt.xticks([])\n",
    "plt.yticks([])\n",
    "plt.legend()\n",
    "plt.title('B and B prime in 2-d space')\n",
    "plt.show()"
   ]
  },
  {
   "cell_type": "markdown",
   "id": "3951b091",
   "metadata": {},
   "source": [
    "#### b. _Compute matrix **P_1** that performs a basis change from $B^{\\prime}$ -> $B$_\n",
    "$B = \\begin{bmatrix}\n",
    "2&-1 \\\\\n",
    "1&-1 \\\\\n",
    "\\end{bmatrix}$\n",
    "\n",
    "$B^{\\prime} = \\begin{bmatrix}\n",
    "2&1 \\\\\n",
    "-2&1 \\\\\n",
    "\\end{bmatrix}$\n",
    "\n",
    "To find matrix $P_1$ that changes the basis $B^{\\prime}$ to $B$, first express the basis vectors of $B^{\\prime}$ as linear combinations of the basis vectors of $B$:\n",
    "\n",
    "$\\begin{bmatrix}\n",
    "2 \\\\\n",
    "-2 \\\\\n",
    "\\end{bmatrix} = a\n",
    "\\begin{bmatrix}\n",
    "2 \\\\\n",
    "1 \\\\\n",
    "\\end{bmatrix} + b\n",
    "\\begin{bmatrix}\n",
    "-1 \\\\\n",
    "-1 \\\\\n",
    "\\end{bmatrix} = \n",
    "\\begin{bmatrix}\n",
    "2&-1 \\\\\n",
    "1&-1 \\\\\n",
    "\\end{bmatrix}\n",
    "\\begin{bmatrix}\n",
    "a \\\\\n",
    "b \\\\\n",
    "\\end{bmatrix}$\n",
    "\n",
    "$\\begin{bmatrix}\n",
    "1 \\\\\n",
    "1 \\\\\n",
    "\\end{bmatrix} = c\n",
    "\\begin{bmatrix}\n",
    "2 \\\\\n",
    "1 \\\\\n",
    "\\end{bmatrix} + d\n",
    "\\begin{bmatrix}\n",
    "-1 \\\\\n",
    "-1 \\\\\n",
    "\\end{bmatrix} = \n",
    "\\begin{bmatrix}\n",
    "2&-1 \\\\\n",
    "1&-1 \\\\\n",
    "\\end{bmatrix}\n",
    "\\begin{bmatrix}\n",
    "c \\\\\n",
    "d \\\\\n",
    "\\end{bmatrix}$\n"
   ]
  },
  {
   "cell_type": "code",
   "execution_count": 7,
   "id": "0be300a4",
   "metadata": {},
   "outputs": [
    {
     "name": "stdout",
     "output_type": "stream",
     "text": [
      "a 4.0\n",
      "b 6.0\n",
      "c 0.0\n",
      "d -1.0\n",
      "\n",
      "P_1\n",
      "[[ 4  0]\n",
      " [ 6 -1]]\n"
     ]
    }
   ],
   "source": [
    "a, b = np.linalg.solve(B, B_prime[:, 0])\n",
    "c, d = np.linalg.solve(B, B_prime[:, 1])\n",
    "print(\"a\" , a)\n",
    "print(\"b\" , b)\n",
    "print(\"c\" , c)\n",
    "print(\"d\" , d)\n",
    "P_1 = np.array([[int(a), int(b)], [int(c), int(d)]]).T\n",
    "print()\n",
    "print(\"P_1\")\n",
    "print(P_1)"
   ]
  },
  {
   "cell_type": "markdown",
   "id": "21b68a9f",
   "metadata": {},
   "source": [
    "\n",
    "$P_1 = \\begin{bmatrix}\n",
    "a&c \\\\\n",
    "b&d \\\\\n",
    "\\end{bmatrix}$\n",
    "\n",
    "$P_1 = \\begin{bmatrix}\n",
    "4&0 \\\\\n",
    "6&-1 \\\\\n",
    "\\end{bmatrix}$"
   ]
  },
  {
   "cell_type": "code",
   "execution_count": 8,
   "id": "36c8dc7e",
   "metadata": {
    "scrolled": false
   },
   "outputs": [
    {
     "data": {
      "image/png": "[encoded data removed]",
      "text/plain": [
       "<Figure size 460.8x403.2 with 1 Axes>"
      ]
     },
     "metadata": {},
     "output_type": "display_data"
    },
    {
     "name": "stdout",
     "output_type": "stream",
     "text": [
      "point in standard basis:  [1] [-1]\n",
      "point in B :  [3] [2]\n",
      "point in B_prime :  [1] [-3]\n"
     ]
    }
   ],
   "source": [
    "# showing this\n",
    "starting_point = (1,-1)\n",
    "\n",
    "point = np.array(starting_point).reshape(2, 1)\n",
    "point_in_B_prime = np.matmul(B_prime, point)\n",
    "point_in_B = np.matmul(B, point)\n",
    "S = np.array([[1, 0], [0,1]]).reshape(2,2) # cartesian coords\n",
    "point_in_S = np.matmul(S, point)\n",
    "origin = ([[0, 0], [0, 0]])\n",
    "B_plot = plt.quiver(*origin, *B, color=['r'], scale=8, label='B')\n",
    "B_prime_plot = plt.quiver(*origin, *B_prime, color='b', scale=8, label='B prime')\n",
    "S_plot = plt.quiver(*origin, *S, color=['g'], scale=8, label='Standard Basis (S)')\n",
    "plt.scatter(*point_in_B, label='point in B', color='r')\n",
    "plt.scatter(*point_in_B_prime, label='point in B prime', color='b')\n",
    "plt.scatter(*point_in_S, label='point in Standard Basis', color='g')\n",
    "plt.xticks([])\n",
    "plt.yticks([])\n",
    "plt.legend(loc='lower right')\n",
    "plt.title('point in B, B_prime, and the Standard Basis Space')\n",
    "plt.show()\n",
    "print(\"point in standard basis: \", *point)\n",
    "print(\"point in B : \", *point_in_B)\n",
    "print(\"point in B_prime : \", *point_in_B_prime)"
   ]
  },
  {
   "cell_type": "markdown",
   "id": "d398f96b",
   "metadata": {},
   "source": [
    "#### c. three vectors in the space of all real numbers in 3 dimensions"
   ]
  },
  {
   "cell_type": "code",
   "execution_count": 9,
   "id": "267aaa72",
   "metadata": {},
   "outputs": [],
   "source": [
    "c1 = np.array([1, 2, -1]).reshape(3, 1)\n",
    "c2 = np.array([0, -1, 2]).reshape(3, 1)\n",
    "c3 = np.array([1, 0, -1]).reshape(3, 1)"
   ]
  },
  {
   "cell_type": "code",
   "execution_count": 10,
   "id": "7e3e2a65",
   "metadata": {},
   "outputs": [],
   "source": [
    "C = (c1, c2, c3)"
   ]
  },
  {
   "cell_type": "markdown",
   "id": "8e26bad6",
   "metadata": {},
   "source": [
    " ###### i. Show that $C$ is a basis of $\\mathbb{R}^3 \\$ using determinants. "
   ]
  },
  {
   "cell_type": "code",
   "execution_count": 11,
   "id": "21e63b02",
   "metadata": {},
   "outputs": [
    {
     "data": {
      "text/plain": [
       "array([[ 1,  0,  1],\n",
       "       [ 2, -1,  0],\n",
       "       [-1,  2, -1]])"
      ]
     },
     "execution_count": 11,
     "metadata": {},
     "output_type": "execute_result"
    }
   ],
   "source": [
    "C = np.array(C).reshape(3, 3).T\n",
    "C"
   ]
  },
  {
   "cell_type": "code",
   "execution_count": 12,
   "id": "691ede65",
   "metadata": {},
   "outputs": [
    {
     "name": "stdout",
     "output_type": "stream",
     "text": [
      "det(C) =  3.999999999999999\n",
      "rk(C) =  3\n"
     ]
    }
   ],
   "source": [
    "# same as above\n",
    "print('det(C) = ', np.linalg.det(C))\n",
    "print('rk(C) = ', np.linalg.matrix_rank(C))"
   ]
  },
  {
   "cell_type": "markdown",
   "id": "fb3ae349",
   "metadata": {},
   "source": [
    "###### ii. Let us call $C^{\\prime}$ the standard basis of $\\mathbb{R}^3 $. Determinge matrix $P2$ that performs the basis change from $C$ to $C^{\\prime}$"
   ]
  },
  {
   "cell_type": "code",
   "execution_count": 13,
   "id": "305571de",
   "metadata": {},
   "outputs": [],
   "source": [
    "# the basis change is just C prime"
   ]
  }
 ],
 "metadata": {
  "kernelspec": {
   "display_name": "Python 3",
   "language": "python",
   "name": "python3"
  },
  "language_info": {
   "codemirror_mode": {
    "name": "ipython",
    "version": 3
   },
   "file_extension": ".py",
   "mimetype": "text/x-python",
   "name": "python",
   "nbconvert_exporter": "python",
   "pygments_lexer": "ipython3",
   "version": "3.9.4"
  }
 },
 "nbformat": 4,
 "nbformat_minor": 5
}
